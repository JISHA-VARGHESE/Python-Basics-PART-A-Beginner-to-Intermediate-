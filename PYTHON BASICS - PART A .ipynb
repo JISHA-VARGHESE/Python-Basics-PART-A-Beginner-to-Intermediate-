{
 "cells": [
  {
   "cell_type": "markdown",
   "id": "fd6cb6e4-72b9-468d-b4ab-4b8f043dedad",
   "metadata": {},
   "source": [
    "# PHASE 1 PART A – Core Python (Beginner to Intermediate)"
   ]
  },
  {
   "cell_type": "markdown",
   "id": "9365c2d7-75d5-4ac2-aa7e-69fa240581df",
   "metadata": {},
   "source": [
    "## Presented by: JISHA VARGHESE (Data Science Enthusiast)"
   ]
  },
  {
   "cell_type": "markdown",
   "id": "1757cc7c-0010-42b9-9e6a-2e12a9d56a9f",
   "metadata": {},
   "source": [
    "### Lesson 1: Your First Python Code"
   ]
  },
  {
   "cell_type": "code",
   "execution_count": 1,
   "id": "5fa2df7c-a552-4f67-9101-3a9a111e34fe",
   "metadata": {},
   "outputs": [
    {
     "name": "stdout",
     "output_type": "stream",
     "text": [
      "hello, world\n"
     ]
    }
   ],
   "source": [
    "print(\"hello, world\")  "
   ]
  },
  {
   "cell_type": "code",
   "execution_count": 64,
   "id": "2de4db5c-84b1-4fb0-8315-729e24f8cf61",
   "metadata": {},
   "outputs": [
    {
     "name": "stdout",
     "output_type": "stream",
     "text": [
      "hello world\n",
      "You 're a good man\n",
      "You 're a \"good\" person\n"
     ]
    }
   ],
   "source": [
    "# Different ways - Print() function\n",
    "print ('hello world')\n",
    "# CASE 1 : print (' You 're a good man') - shows error as three quotes\n",
    "# Solution\n",
    "print (\"You 're a good man\")\n",
    "# CASE 2 : print(\"You 're a \"good\" person\") - Error as in between \"good\" quotes,python again gets confused.\n",
    "# Solution :\n",
    "print ('''You 're a \"good\" person''')"
   ]
  },
  {
   "cell_type": "markdown",
   "id": "7a9f7a67-078c-4180-841a-e435e61057fc",
   "metadata": {},
   "source": [
    "### Lesson 2: Variables and Data Types\n",
    "###  A variable is a name used to store data. It’s like a container in memory."
   ]
  },
  {
   "cell_type": "code",
   "execution_count": 3,
   "id": "9ce32e30-f1d2-4f07-a4c3-8e4bb3c454ee",
   "metadata": {},
   "outputs": [
    {
     "name": "stdout",
     "output_type": "stream",
     "text": [
      "Juvana\n",
      "Juvana age is 25\n"
     ]
    }
   ],
   "source": [
    "name = 'Juvana'      # String (Text)\n",
    "age = 25             # integer (Number)\n",
    "height = 5.3         # float (Decimal)\n",
    "is_student = True    # Boolean (True or false)\n",
    "print(name)\n",
    "# print(Name) Python is case sensitive (Error found)\n",
    "print(\"Juvana age is\",age)"
   ]
  },
  {
   "cell_type": "code",
   "execution_count": 1,
   "id": "7fdb8a00-9ba3-451d-9206-de5f781d947f",
   "metadata": {},
   "outputs": [
    {
     "name": "stdout",
     "output_type": "stream",
     "text": [
      "20 Jisha 33\n"
     ]
    }
   ],
   "source": [
    "a,b,c=20,\"Jisha\",33  # assign multiple variables\n",
    "print(a,b,c)  "
   ]
  },
  {
   "cell_type": "markdown",
   "id": "93b4f522-59f6-45c6-8ab1-0a553ed85a95",
   "metadata": {},
   "source": [
    "###  Rules for Naming Variables in Python (Very Important):\n",
    "### You can:\n",
    "### 1.Use letters (A–Z, a–z)\n",
    "### 2.Use numbers (0–9) — but not at the start\n",
    "### 3.Use underscore _ (recommended for separating words)\n",
    "### You cannot:\n",
    "### 1.Start a variable with a number\n",
    "### 2.Use special characters like @, #, %, !\n",
    "### 3.Use Python keywords like if, for, print, while, etc.\n"
   ]
  },
  {
   "cell_type": "code",
   "execution_count": 39,
   "id": "ce46e7f3-b45b-4ce5-87d5-146f7d4921e7",
   "metadata": {},
   "outputs": [],
   "source": [
    "# Ways to declare a variable name\n",
    "MyName = \"JISHA\" #Pascal Case\n",
    "myName = \"JISHA\" # Camel Case\n",
    "myname = \"JISHA\" # Flat Case\n",
    "my_name = \"Jisha\" # Snake case"
   ]
  },
  {
   "cell_type": "markdown",
   "id": "297cfdbc-832e-46b1-b06c-3371005fe140",
   "metadata": {},
   "source": [
    "###  LESSON 3: print() and input() Functions + Data Types"
   ]
  },
  {
   "cell_type": "markdown",
   "id": "a6cba5ad-1856-451d-a84a-081dfcdec221",
   "metadata": {},
   "source": [
    "### What is a function\n",
    "### What is print() and why we use it\n",
    "### What is input() and how to take user input\n",
    "### Different data types in Python\n",
    "### How to check and convert data types\n",
    "### 1. What is a Function?\n",
    "### A function is a block of code that performs a specific task.\n",
    "### You can call a function to run it.\n",
    "### There are two types:\n",
    "### Built-in functions: like print(), input(), len()\n",
    "### User-defined functions: we'll learn later\n",
    "### Calling a function means writing its name followed by ()"
   ]
  },
  {
   "cell_type": "markdown",
   "id": "47c7cd9c-27d2-46c8-aab9-491ca65e1fb1",
   "metadata": {},
   "source": [
    "### 2. print() – Built-in Function\n",
    "### Purpose:\n",
    "### Used to display output on the screen."
   ]
  },
  {
   "cell_type": "code",
   "execution_count": 22,
   "id": "b62b7bcd-bcf6-4092-a5b7-6f20a0b71c6f",
   "metadata": {},
   "outputs": [
    {
     "name": "stdout",
     "output_type": "stream",
     "text": [
      "Hello, World\n"
     ]
    }
   ],
   "source": [
    "print(\"Hello, World\")"
   ]
  },
  {
   "cell_type": "code",
   "execution_count": 24,
   "id": "db68e1e6-bfbd-4f25-aa64-bbdea9fd4995",
   "metadata": {},
   "outputs": [
    {
     "name": "stdout",
     "output_type": "stream",
     "text": [
      "8\n"
     ]
    }
   ],
   "source": [
    "print(5+3)"
   ]
  },
  {
   "cell_type": "markdown",
   "id": "c9669624-4c46-473f-a2e5-732aec310dbc",
   "metadata": {},
   "source": [
    "### 3. input() – Built-in Function\n",
    "### Purpose:\n",
    "### Used to take input from the user as a string (text).\n",
    "name = input(\"Enter your name: \")\n",
    "print(\"Hello,\", name)\n",
    "### Even if you enter a number, input() will return it as a string."
   ]
  },
  {
   "cell_type": "code",
   "execution_count": 14,
   "id": "f71af03d-0173-49d8-b38c-0f3517066da0",
   "metadata": {},
   "outputs": [
    {
     "name": "stdin",
     "output_type": "stream",
     "text": [
      "Enter your name: Jisha Varghese\n"
     ]
    }
   ],
   "source": [
    "name=input(\"Enter your name:\")"
   ]
  },
  {
   "cell_type": "code",
   "execution_count": 17,
   "id": "1f1dda8f-d656-4514-83c3-a5f9f78d57ed",
   "metadata": {},
   "outputs": [
    {
     "name": "stdout",
     "output_type": "stream",
     "text": [
      "Hello-Jisha Varghese-nice to meet you\n"
     ]
    }
   ],
   "source": [
    "print(\"Hello\" ,name, \"nice to meet you\", sep=\"-\")"
   ]
  },
  {
   "cell_type": "code",
   "execution_count": 43,
   "id": "ea09e3c0-d844-4012-ba1d-078d40492127",
   "metadata": {},
   "outputs": [
    {
     "name": "stdin",
     "output_type": "stream",
     "text": [
      "Enter your ID 123D34RR\n"
     ]
    }
   ],
   "source": [
    "Customer_ID=input(\"Enter your ID\")"
   ]
  },
  {
   "cell_type": "code",
   "execution_count": 45,
   "id": "ae3bc5c5-c01c-420e-a78f-f79448a6b059",
   "metadata": {},
   "outputs": [
    {
     "name": "stdout",
     "output_type": "stream",
     "text": [
      "JISHA VARGHESE 123D34RR Successfully created\n"
     ]
    }
   ],
   "source": [
    "print(name,Customer_ID,\"Successfully created\")"
   ]
  },
  {
   "cell_type": "markdown",
   "id": "fc52c48e-1db7-4110-a2bb-2c7bbe508463",
   "metadata": {},
   "source": [
    "###  4. Data Types in Python - using type() function"
   ]
  },
  {
   "cell_type": "code",
   "execution_count": null,
   "id": "a10504f5-4ba0-4ed3-935e-fad7dd14433b",
   "metadata": {},
   "outputs": [],
   "source": [
    "| **Type** | **Example** | **Use**         |\n",
    "| -------- | ----------- | --------------- |\n",
    "| `int`    | 5, 100      | Whole numbers   |\n",
    "| `float`  | 5.5, 3.14   | Decimal numbers |\n",
    "| `str`    | \"Hello\"     | Text/words      |\n",
    "| `bool`   | True, False | Yes/No logic    |\n"
   ]
  },
  {
   "cell_type": "markdown",
   "id": "a38a43bd-711e-47e1-a5b6-505dd67c9589",
   "metadata": {},
   "source": [
    "### 5. Type Checking and Conversion"
   ]
  },
  {
   "cell_type": "code",
   "execution_count": 10,
   "id": "f808b53f-1f21-46fc-8356-cbafa65f7ee0",
   "metadata": {},
   "outputs": [
    {
     "data": {
      "text/plain": [
       "int"
      ]
     },
     "execution_count": 10,
     "metadata": {},
     "output_type": "execute_result"
    }
   ],
   "source": [
    "X=5\n",
    "type(X)"
   ]
  },
  {
   "cell_type": "code",
   "execution_count": 18,
   "id": "44f22ca9-29fd-41ec-9cf7-e886936333a8",
   "metadata": {},
   "outputs": [
    {
     "name": "stdout",
     "output_type": "stream",
     "text": [
      "<class 'str'>\n"
     ]
    }
   ],
   "source": [
    "print(type(name))"
   ]
  },
  {
   "cell_type": "code",
   "execution_count": 67,
   "id": "a3e32b7a-d9a5-41bb-8330-ae9bea49b9c0",
   "metadata": {},
   "outputs": [
    {
     "name": "stdout",
     "output_type": "stream",
     "text": [
      "JISHA VARGHESE Customer ID: 123D34RR is True\n"
     ]
    }
   ],
   "source": [
    "print(name , \"Customer ID:\", Customer_ID,\"is\", True)"
   ]
  },
  {
   "cell_type": "code",
   "execution_count": 77,
   "id": "f5c70d6b-cdd8-450e-b86e-ccfd44878e33",
   "metadata": {},
   "outputs": [
    {
     "name": "stdout",
     "output_type": "stream",
     "text": [
      "JISHA VARGHESE Customer ID: 123D34RR is True\n"
     ]
    }
   ],
   "source": [
    "Checking = print(name , \"Customer ID:\", Customer_ID,\"is\", True)"
   ]
  },
  {
   "cell_type": "code",
   "execution_count": 79,
   "id": "78307cbd-1c99-4d3e-9e3c-d54ca4e726be",
   "metadata": {},
   "outputs": [
    {
     "name": "stdout",
     "output_type": "stream",
     "text": [
      "<class 'NoneType'>\n"
     ]
    }
   ],
   "source": [
    "print(type(Checking)) # Note : You are assigning the result of print(), not the text it shows — and print() returns None by default."
   ]
  },
  {
   "cell_type": "code",
   "execution_count": 81,
   "id": "c8f55472-7b56-49db-9d87-6401a960fa59",
   "metadata": {},
   "outputs": [],
   "source": [
    "Checking = name , \"Customer ID:\", Customer_ID,\"is\", True"
   ]
  },
  {
   "cell_type": "code",
   "execution_count": 83,
   "id": "de9c6c28-e97e-4702-aff2-3ab159685b51",
   "metadata": {},
   "outputs": [
    {
     "name": "stdout",
     "output_type": "stream",
     "text": [
      "('JISHA VARGHESE', 'Customer ID:', '123D34RR', 'is', True)\n"
     ]
    }
   ],
   "source": [
    "print(Checking)"
   ]
  },
  {
   "cell_type": "code",
   "execution_count": 85,
   "id": "e6302977-4f69-4753-88f4-62e6a89ec83e",
   "metadata": {},
   "outputs": [
    {
     "name": "stdout",
     "output_type": "stream",
     "text": [
      "<class 'tuple'>\n"
     ]
    }
   ],
   "source": [
    "print(type(Checking))"
   ]
  },
  {
   "cell_type": "code",
   "execution_count": 103,
   "id": "eda4c820-d086-4407-a206-1a3e03b728f6",
   "metadata": {},
   "outputs": [],
   "source": [
    "Checking = name +  \"Customer ID:\" + Customer_ID + \"is True\""
   ]
  },
  {
   "cell_type": "code",
   "execution_count": 107,
   "id": "85546805-01e8-4bb3-a932-d82f2093bec9",
   "metadata": {},
   "outputs": [
    {
     "name": "stdout",
     "output_type": "stream",
     "text": [
      "<class 'str'>\n"
     ]
    }
   ],
   "source": [
    "print(type(Checking))"
   ]
  },
  {
   "cell_type": "markdown",
   "id": "1e9a2aeb-1c30-4261-8ec9-107bb83ceeaa",
   "metadata": {},
   "source": [
    "###  Type Conversion:"
   ]
  },
  {
   "cell_type": "code",
   "execution_count": 111,
   "id": "3df08562-69fb-41b5-8312-cb483cdead4a",
   "metadata": {},
   "outputs": [
    {
     "name": "stdin",
     "output_type": "stream",
     "text": [
      "Enter your age: 22\n"
     ]
    }
   ],
   "source": [
    "age =input(\"Enter your age:\")"
   ]
  },
  {
   "cell_type": "code",
   "execution_count": 113,
   "id": "db4995ec-ef03-4e5e-a8f2-437d99350f41",
   "metadata": {},
   "outputs": [
    {
     "name": "stdout",
     "output_type": "stream",
     "text": [
      "<class 'str'>\n"
     ]
    }
   ],
   "source": [
    "print(type(age))   # input is string"
   ]
  },
  {
   "cell_type": "code",
   "execution_count": 115,
   "id": "888e668a-ee61-4cf1-bb32-e72aaf89b36a",
   "metadata": {},
   "outputs": [],
   "source": [
    "# Convert string to int\n",
    "age =int(age)"
   ]
  },
  {
   "cell_type": "code",
   "execution_count": 117,
   "id": "ef0e37da-dbc7-47cd-a53f-f5a199e34a87",
   "metadata": {},
   "outputs": [
    {
     "name": "stdout",
     "output_type": "stream",
     "text": [
      "<class 'int'>\n"
     ]
    }
   ],
   "source": [
    "print(type(age))"
   ]
  },
  {
   "cell_type": "code",
   "execution_count": 121,
   "id": "3f369600-804b-4732-8740-e1826276f4fb",
   "metadata": {},
   "outputs": [
    {
     "name": "stdin",
     "output_type": "stream",
     "text": [
      "Enter value: 3.14\n"
     ]
    }
   ],
   "source": [
    "# Convert to float\n",
    "pi = input(\"Enter value:\")"
   ]
  },
  {
   "cell_type": "code",
   "execution_count": 125,
   "id": "222cdc96-5be8-458a-b705-1297ca0d14d7",
   "metadata": {},
   "outputs": [
    {
     "name": "stdout",
     "output_type": "stream",
     "text": [
      "<class 'str'>\n"
     ]
    }
   ],
   "source": [
    "print(type(pi))"
   ]
  },
  {
   "cell_type": "code",
   "execution_count": 127,
   "id": "3ba09923-7257-4d7c-b2fa-b98f01769593",
   "metadata": {},
   "outputs": [],
   "source": [
    "pi =float(pi) # can also write pi = float(\"3.14\")"
   ]
  },
  {
   "cell_type": "code",
   "execution_count": 131,
   "id": "7c7956d5-2131-43e3-8680-c4d475069b8f",
   "metadata": {},
   "outputs": [
    {
     "name": "stdout",
     "output_type": "stream",
     "text": [
      "<class 'float'>\n"
     ]
    }
   ],
   "source": [
    "print(type(pi))"
   ]
  },
  {
   "cell_type": "code",
   "execution_count": 133,
   "id": "c7d9afc0-441e-4915-a0fc-7512a728b1be",
   "metadata": {},
   "outputs": [],
   "source": [
    "pi_1=int(pi)"
   ]
  },
  {
   "cell_type": "code",
   "execution_count": 137,
   "id": "16855e0e-3290-43d6-989d-2cb4f8e3c957",
   "metadata": {},
   "outputs": [
    {
     "name": "stdout",
     "output_type": "stream",
     "text": [
      "<class 'int'>\n"
     ]
    }
   ],
   "source": [
    "print(type(pi_1))"
   ]
  },
  {
   "cell_type": "code",
   "execution_count": 141,
   "id": "37ffb0ba-c3e8-4138-8ce8-786322573a4e",
   "metadata": {},
   "outputs": [
    {
     "name": "stdout",
     "output_type": "stream",
     "text": [
      "<class 'float'>\n"
     ]
    }
   ],
   "source": [
    "print(type(pi))"
   ]
  },
  {
   "cell_type": "markdown",
   "id": "e88f1158-b014-48f1-8574-4d039686a412",
   "metadata": {},
   "source": [
    "###  TASK "
   ]
  },
  {
   "cell_type": "code",
   "execution_count": 147,
   "id": "ea8a0ee6-75db-4dc0-ab9e-7c253138221a",
   "metadata": {},
   "outputs": [
    {
     "name": "stdin",
     "output_type": "stream",
     "text": [
      "Enter your name:  Juvana\n",
      "Enter your age: 5\n"
     ]
    }
   ],
   "source": [
    "# Take user input\n",
    "name =input(\"Enter your name: \")\n",
    "age = input(\"Enter your age:\")"
   ]
  },
  {
   "cell_type": "code",
   "execution_count": 151,
   "id": "432ab2fe-d8b8-469f-b5b5-5edfcfa39e6c",
   "metadata": {},
   "outputs": [
    {
     "name": "stdout",
     "output_type": "stream",
     "text": [
      "<class 'str'>\n",
      "<class 'int'>\n"
     ]
    }
   ],
   "source": [
    "# Convert age to int\n",
    "print(type(age))\n",
    "age =int(age)\n",
    "print(type(age))"
   ]
  },
  {
   "cell_type": "code",
   "execution_count": 153,
   "id": "80ef8601-fcda-417f-8d81-7bb8f35d0564",
   "metadata": {},
   "outputs": [
    {
     "name": "stdout",
     "output_type": "stream",
     "text": [
      "Hello Juvana!\n",
      "You are 5 years old.\n",
      "Data type of age is: <class 'int'>\n"
     ]
    }
   ],
   "source": [
    "# Print info\n",
    "print(\"Hello\", name + \"!\")\n",
    "print(\"You are\", age, \"years old.\")\n",
    "print(\"Data type of age is:\", type(age))\n"
   ]
  },
  {
   "cell_type": "markdown",
   "id": "9b65df28-d8f5-4b9d-95d5-9e535bb14f8d",
   "metadata": {},
   "source": [
    "### Lesson 4: Operators and Expressions in Python"
   ]
  },
  {
   "cell_type": "markdown",
   "id": "f92bdf08-65df-479c-92ec-19d22dfcb5f8",
   "metadata": {},
   "source": [
    "### What Are Operators?\n",
    "### Operators are symbols or words that perform operations on variables or values.\n",
    "\n",
    "### Just like in math:\n",
    "5 + 3  → here `+` is an operator"
   ]
  },
  {
   "cell_type": "markdown",
   "id": "7ef9d4c8-8af6-4138-aa30-add8aebcb8c6",
   "metadata": {},
   "source": [
    "### | Operator Type     | Description                                | Example            |         |\n",
    "### | ----------------- | ------------------------------------------ | ------------------ | ------- |\n",
    "### | **1. Arithmetic** | Basic math: +, -, \\*, /, %                 | `5 + 3`            |         |\n",
    "### | **2. Assignment** | Assign values to variables                 | `x = 10`           |         |\n",
    "### | **3. Comparison** | Compare values: ==, !=, >, <               | `a > b`            |         |\n",
    "### | **4. Logical**    | Combine conditions: and, or, not           | `x > 5 and y < 10` |         |\n",
    "### | **5. Identity**   | Check memory location: `is`, `is not`      | `a is b`           |         |\n",
    "### | **6. Membership** | Check if value in sequence: `in`, `not in` | `\"a\" in \"apple\"`   |         |\n",
    "### | **7. Bitwise**    | Operate on binary digits (advanced)        | `&`, \\`            | `, `^\\` |\n"
   ]
  },
  {
   "cell_type": "markdown",
   "id": "3f852865-01c7-4d61-be58-370970d93abd",
   "metadata": {},
   "source": [
    "###  1. Arithmetic Operators"
   ]
  },
  {
   "cell_type": "code",
   "execution_count": null,
   "id": "b59ec68a-79b0-4e9f-9486-d5fbd2bd845b",
   "metadata": {},
   "outputs": [],
   "source": [
    "| Operator | Meaning        | Example  | Output |\n",
    "| -------- | -------------- | -------- | ------ |\n",
    "| `+`      | Addition       | `5 + 3`  | `8`    |\n",
    "| `-`      | Subtraction    | `5 - 3`  | `2`    |\n",
    "| `*`      | Multiplication | `5 * 3`  | `15`   |\n",
    "| `/`      | Division       | `5 / 2`  | `2.5`  |\n",
    "| `//`     | Floor Division | `5 // 2` | `2`    |\n",
    "| `%`      | Modulus        | `5 % 2`  | `1`    |\n",
    "| `**`     | Power          | `2 ** 3` | `8`    |\n"
   ]
  },
  {
   "cell_type": "markdown",
   "id": "b6c987c1-9858-4acd-8bc5-1042740390ef",
   "metadata": {},
   "source": [
    "###  2. Assignment Operators"
   ]
  },
  {
   "cell_type": "code",
   "execution_count": null,
   "id": "09a1c084-37eb-416b-a19b-07031b5a3654",
   "metadata": {},
   "outputs": [],
   "source": [
    "| Operator | Example  | Meaning             |\n",
    "| -------- | -------- | ------------------- |\n",
    "| `=`      | `x = 5`  | Assign 5 to x       |\n",
    "| `+=`     | `x += 2` | Same as `x = x + 2` |\n",
    "| `-=`     | `x -= 2` | Same as `x = x - 2` |\n",
    "| `*=`     | `x *= 2` | Same as `x = x * 2` |\n",
    "| `/=`     | `x /= 2` | Same as `x = x / 2` |\n"
   ]
  },
  {
   "cell_type": "markdown",
   "id": "6a7f66c5-d5b7-4a58-bdfd-14516f8737d5",
   "metadata": {},
   "source": [
    "###  3. Comparison Operators"
   ]
  },
  {
   "cell_type": "code",
   "execution_count": null,
   "id": "145c6e5f-94e8-444e-898f-0471e9d4ef47",
   "metadata": {},
   "outputs": [],
   "source": [
    "| Operator | Example  | Meaning               | Result  |\n",
    "| -------- | -------- | --------------------- | ------- |\n",
    "| `==`     | `5 == 5` | Equal                 | `True`  |\n",
    "| `!=`     | `5 != 3` | Not equal             | `True`  |\n",
    "| `>`      | `5 > 3`  | Greater than          | `True`  |\n",
    "| `<`      | `5 < 3`  | Less than             | `False` |\n",
    "| `>=`     | `5 >= 5` | Greater than or equal | `True`  |\n",
    "| `<=`     | `3 <= 5` | Less than or equal    | `True`  |\n"
   ]
  },
  {
   "cell_type": "markdown",
   "id": "8825d04e-3e74-4e27-bb5e-06b995156902",
   "metadata": {},
   "source": [
    "###  4. Logical Operators"
   ]
  },
  {
   "cell_type": "code",
   "execution_count": null,
   "id": "62a648b0-8bc5-4fba-9e2f-24759681b658",
   "metadata": {},
   "outputs": [],
   "source": [
    "| Operator | Description                  | Example            |\n",
    "| -------- | ---------------------------- | ------------------ |\n",
    "| `and`    | True if both are true        | `x > 3 and y < 10` |\n",
    "| `or`     | True if at least one is true | `x > 3 or y < 2`   |\n",
    "| `not`    | Reverses the result          | `not(x > 3)`       |\n"
   ]
  },
  {
   "cell_type": "markdown",
   "id": "47c24df3-cd5d-4a2e-b550-de6615788ebc",
   "metadata": {},
   "source": [
    "###  5. Membership Operators"
   ]
  },
  {
   "cell_type": "code",
   "execution_count": null,
   "id": "120739eb-c578-4b58-bb0c-3f48b9da4e31",
   "metadata": {},
   "outputs": [],
   "source": [
    "| Operator | Meaning                  | Example              | Output |\n",
    "| -------- | ------------------------ | -------------------- | ------ |\n",
    "| `in`     | Value exists in sequence | `'a' in 'apple'`     | True   |\n",
    "| `not in` | Value not in sequence    | `'z' not in 'apple'` | True   |\n"
   ]
  },
  {
   "cell_type": "markdown",
   "id": "db7c731b-55e1-49af-97d2-f0bab7d92866",
   "metadata": {},
   "source": [
    "### 6. Identity Operators (Used less often)"
   ]
  },
  {
   "cell_type": "code",
   "execution_count": null,
   "id": "09370842-ea30-4c89-ac49-c72535950df2",
   "metadata": {},
   "outputs": [],
   "source": [
    "| Operator | Description                  | Example      |\n",
    "| -------- | ---------------------------- | ------------ |\n",
    "| `is`     | True if both are same object | `a is b`     |\n",
    "| `is not` | True if not same object      | `a is not b` |\n"
   ]
  },
  {
   "cell_type": "markdown",
   "id": "72af66f3-aa78-40e4-8606-a26e19ee5aed",
   "metadata": {},
   "source": [
    "###  Practice Task 1:"
   ]
  },
  {
   "cell_type": "code",
   "execution_count": 363,
   "id": "8650c155-b75e-4e77-bc29-7d8a37b5cecc",
   "metadata": {},
   "outputs": [],
   "source": [
    "a = 10\n",
    "b = 5\n",
    "c = \"Python\""
   ]
  },
  {
   "cell_type": "code",
   "execution_count": 176,
   "id": "a1d8a2c1-b929-4260-bd07-469c592c8835",
   "metadata": {},
   "outputs": [
    {
     "name": "stdout",
     "output_type": "stream",
     "text": [
      "Total= 15\n"
     ]
    }
   ],
   "source": [
    "# 1. Add a and b\n",
    "a = 10\n",
    "b =  5\n",
    "x = a+b\n",
    "print(\"Total=\", x)"
   ]
  },
  {
   "cell_type": "code",
   "execution_count": 182,
   "id": "b6647f70-a193-4d7a-8a1c-85d5512082f5",
   "metadata": {},
   "outputs": [
    {
     "name": "stdout",
     "output_type": "stream",
     "text": [
      "Is 10 greater than  5 ? Answer: True\n"
     ]
    }
   ],
   "source": [
    "# 2. Check if a is greater than b\n",
    "a = 10\n",
    "b = 5\n",
    "x = a>b\n",
    "print ( \"Is\", a , \"greater than \", b, \"?\", \"Answer:\", x)"
   ]
  },
  {
   "cell_type": "code",
   "execution_count": 202,
   "id": "38009cf5-d6e3-43b0-9561-8f3fb8975b54",
   "metadata": {},
   "outputs": [
    {
     "name": "stdout",
     "output_type": "stream",
     "text": [
      "Is t is in c? True\n"
     ]
    }
   ],
   "source": [
    "# 3. Check if \"t\" is in c\n",
    "c = \"Python\"\n",
    "print(\"Is t is in c?\" , \"t\" in c)"
   ]
  },
  {
   "cell_type": "code",
   "execution_count": 192,
   "id": "639431a9-2f8e-4acb-8205-c3bd0153678e",
   "metadata": {},
   "outputs": [
    {
     "name": "stdout",
     "output_type": "stream",
     "text": [
      "3\n"
     ]
    }
   ],
   "source": [
    "# 4. Use floor division on a and b\n",
    "a = 10\n",
    "b = 3\n",
    "x = a//b\n",
    "print (x)"
   ]
  },
  {
   "cell_type": "code",
   "execution_count": 223,
   "id": "1db7bb3f-62c4-47f4-9666-a9c148098a9f",
   "metadata": {},
   "outputs": [
    {
     "name": "stdout",
     "output_type": "stream",
     "text": [
      "True\n",
      "True\n"
     ]
    }
   ],
   "source": [
    "# 5. Check if a is not equal to b\n",
    "a = 10\n",
    "b = 5\n",
    "f = a != b\n",
    "print(f)\n",
    "# option 2 :\n",
    "print(not(a == b))"
   ]
  },
  {
   "cell_type": "code",
   "execution_count": 206,
   "id": "9ef1663f-63cd-484d-98fe-256b2437703c",
   "metadata": {},
   "outputs": [
    {
     "name": "stdout",
     "output_type": "stream",
     "text": [
      "True\n"
     ]
    }
   ],
   "source": [
    "# 6. What will this print?\n",
    "name = \"python\"\n",
    "print(\"o\" in name)"
   ]
  },
  {
   "cell_type": "markdown",
   "id": "6b08a0ef-4e4e-401c-864f-a9735edd2f48",
   "metadata": {},
   "source": [
    "###  Practice Task 2:"
   ]
  },
  {
   "cell_type": "code",
   "execution_count": 213,
   "id": "349d92f1-5d6b-493c-916b-7864833c0abe",
   "metadata": {},
   "outputs": [
    {
     "name": "stdout",
     "output_type": "stream",
     "text": [
      "2\n",
      "512\n",
      "True\n",
      "True\n"
     ]
    }
   ],
   "source": [
    "x = 8\n",
    "y = 3\n",
    "print(x % y)\n",
    "print(x ** y)\n",
    "print(x > 5 and y < 5)\n",
    "print(not(x < 5))"
   ]
  },
  {
   "cell_type": "markdown",
   "id": "b3db4172-c60c-4d71-a023-07257ae974f5",
   "metadata": {},
   "source": [
    "###  Lesson 5: Data Types Deep Dive in Python\n"
   ]
  },
  {
   "cell_type": "code",
   "execution_count": null,
   "id": "dc17e8a3-c5b8-4cca-9c7b-db0e96053257",
   "metadata": {},
   "outputs": [],
   "source": [
    "Python is dynamically typed, meaning you don’t have to declare the type of a variable — Python figures it out automatically.\n",
    "But understanding data types is crucial because they determine:\n",
    "What kind of data can be stored\n",
    "What operations can be performed"
   ]
  },
  {
   "cell_type": "markdown",
   "id": "0725d3c9-8d4e-4ddf-a6d9-5926ca4e6227",
   "metadata": {},
   "source": [
    "###  Why Are Data Types Important in Python (and Data Science)?\n",
    "### In Data Science, you'll work with:\n",
    "### Numbers (math, stats)\n",
    "### Text (customer names, categories)\n",
    "### Booleans (True/False logic)\n",
    "### Collections (lists, tables, etc.)\n",
    "### To analyze, clean, and model data, you must understand how each type behaves."
   ]
  },
  {
   "cell_type": "markdown",
   "id": "178a08ee-c255-4867-bac8-a3aa311136d2",
   "metadata": {},
   "source": [
    "###  Python’s Core Data Types"
   ]
  },
  {
   "cell_type": "code",
   "execution_count": null,
   "id": "f00f5307-e5ef-4fdd-93f6-363f03f585d6",
   "metadata": {},
   "outputs": [],
   "source": [
    "| Category | Data Type  | Example                 |\n",
    "| -------- | ---------- | ----------------------- |\n",
    "| Numeric  | `int`      | `a = 10`                |\n",
    "|          | `float`    | `pi = 3.14`             |\n",
    "|          | `complex`  | `z = 2 + 3j`            |\n",
    "| Text     | `str`      | `name = \"Jisha\"`        |\n",
    "| Boolean  | `bool`     | `is_ready = True`       |\n",
    "| Sequence | `list`     | `marks = [10, 20, 30]`  |\n",
    "|          | `tuple`    | `coords = (3, 4)`       |\n",
    "| Set      | `set`      | `nums = {1, 2, 3}`      |\n",
    "| Mapping  | `dict`     | `data = {\"name\":\"Ana\"}` |\n",
    "| NoneType | `NoneType` | `val = None`            |\n"
   ]
  },
  {
   "cell_type": "markdown",
   "id": "9ae2549c-c70e-4afc-b4d0-433b192bd518",
   "metadata": {},
   "source": [
    "###  1. Numeric Types\n",
    "### int: Whole numbers → a = 10\n",
    "### float: Decimal → pi = 3.14\n",
    "### complex: Imaginary part → z = 2 + 3j"
   ]
  },
  {
   "cell_type": "code",
   "execution_count": 24,
   "id": "56d573fd-db74-4dc0-89b0-4b55a61152ce",
   "metadata": {},
   "outputs": [
    {
     "name": "stdout",
     "output_type": "stream",
     "text": [
      "10\n",
      "<class 'int'>\n",
      "20\n"
     ]
    },
    {
     "data": {
      "text/plain": [
       "int"
      ]
     },
     "execution_count": 24,
     "metadata": {},
     "output_type": "execute_result"
    }
   ],
   "source": [
    "a1 = int(10)\n",
    "print(a1)\n",
    "print(type(a1)) \n",
    " # or can also be written\n",
    "a2 = 20\n",
    "print(a2)\n",
    "type(a2)"
   ]
  },
  {
   "cell_type": "code",
   "execution_count": 30,
   "id": "6fd424ae-e924-4172-ba3b-8d0e0d4b4018",
   "metadata": {},
   "outputs": [
    {
     "name": "stdout",
     "output_type": "stream",
     "text": [
      "3.14\n",
      "3.0\n",
      "<class 'float'>\n"
     ]
    }
   ],
   "source": [
    "b2 = 3.14\n",
    "print(b2)\n",
    "type(b2)\n",
    "b3 = float(3)\n",
    "print(b3)\n",
    "print(type(b3))"
   ]
  },
  {
   "cell_type": "code",
   "execution_count": 38,
   "id": "e4d5c802-8270-4514-946a-bca766363ece",
   "metadata": {},
   "outputs": [
    {
     "name": "stdout",
     "output_type": "stream",
     "text": [
      "(3, 4)\n",
      "<class 'tuple'>\n",
      "(3+4j)\n",
      "<class 'complex'>\n"
     ]
    }
   ],
   "source": [
    "c1 = (3,4)\n",
    "print(c1)\n",
    "print(type(c1))\n",
    "c2 = complex(3,4)\n",
    "print(c2)\n",
    "print(type(c2))"
   ]
  },
  {
   "cell_type": "markdown",
   "id": "18d61ffc-03c2-4164-bb87-355e3a7caf49",
   "metadata": {},
   "source": [
    "###  2. String (str)"
   ]
  },
  {
   "cell_type": "code",
   "execution_count": 235,
   "id": "0730e186-7762-41a4-966c-36d3d57e97f6",
   "metadata": {},
   "outputs": [
    {
     "name": "stdout",
     "output_type": "stream",
     "text": [
      "JISHA\n"
     ]
    }
   ],
   "source": [
    "name = \"Jisha\"\n",
    "print(name.upper())"
   ]
  },
  {
   "cell_type": "markdown",
   "id": "c6a01f59-c39f-433f-b845-0e1b4f583c8b",
   "metadata": {},
   "source": [
    "###  3. Boolean (bool)"
   ]
  },
  {
   "cell_type": "code",
   "execution_count": 242,
   "id": "72513d9f-26af-421b-b494-c7052ca3e84b",
   "metadata": {},
   "outputs": [],
   "source": [
    "x = True\n",
    "y = False\n",
    "# Used in conditions, filtering, machine learning labels (yes/no)."
   ]
  },
  {
   "cell_type": "code",
   "execution_count": 61,
   "id": "4cc33163-a53b-4a5e-b1c7-4a075a5bef6e",
   "metadata": {},
   "outputs": [
    {
     "name": "stdout",
     "output_type": "stream",
     "text": [
      "True\n",
      "<class 'bool'>\n",
      "False\n",
      "<class 'bool'>\n"
     ]
    }
   ],
   "source": [
    "bool1 = True\n",
    "bool2 = False\n",
    "print(bool1)\n",
    "print(type(bool1))\n",
    "print(bool2)\n",
    "print(type(bool2))"
   ]
  },
  {
   "cell_type": "markdown",
   "id": "81b7fb9e-eff9-43f3-ba6f-02cb29e5d4bb",
   "metadata": {},
   "source": [
    "###  4. List"
   ]
  },
  {
   "cell_type": "code",
   "execution_count": 257,
   "id": "d584f05e-98c5-4e56-be01-d5bfcad0f45d",
   "metadata": {},
   "outputs": [
    {
     "name": "stdout",
     "output_type": "stream",
     "text": [
      "['apple', 'banana', 'cherry']\n",
      "apple\n",
      "banana\n",
      "apple banana\n"
     ]
    }
   ],
   "source": [
    "fruits = [\"apple\", \"banana\", \"cherry\"]\n",
    "print(fruits)\n",
    "print(fruits[0])\n",
    "print(fruits[1])\n",
    "print(fruits[0], fruits[1])"
   ]
  },
  {
   "cell_type": "markdown",
   "id": "cf60d9ae-5395-48fa-b3bd-16fe76fb7a7d",
   "metadata": {},
   "source": [
    "### Difference between tuple , list & Set"
   ]
  },
  {
   "cell_type": "code",
   "execution_count": 54,
   "id": "9d675af3-2610-4c77-8ad2-8d830810ed33",
   "metadata": {},
   "outputs": [
    {
     "name": "stdout",
     "output_type": "stream",
     "text": [
      "[1, 2, 3, 'jisha']\n",
      "<class 'list'>\n"
     ]
    }
   ],
   "source": [
    "c3 = [1,2,3,'jisha']\n",
    "print(c3)\n",
    "print(type(c3))"
   ]
  },
  {
   "cell_type": "code",
   "execution_count": 44,
   "id": "e3a1f1bb-1948-43cd-b16c-28e9b55064f0",
   "metadata": {},
   "outputs": [
    {
     "name": "stdout",
     "output_type": "stream",
     "text": [
      "(1, 2, 3, 'jisha')\n",
      "<class 'tuple'>\n"
     ]
    }
   ],
   "source": [
    "c4 = (1,2,3,'jisha') # here two data types are here in () which is considered as tuple\n",
    "print(c4)\n",
    "print(type(c4))"
   ]
  },
  {
   "cell_type": "code",
   "execution_count": 57,
   "id": "38ca9a6c-bd26-4c84-8983-6f5b96f870c6",
   "metadata": {},
   "outputs": [
    {
     "name": "stdout",
     "output_type": "stream",
     "text": [
      "{1, 2, 3, 'jisha'}\n",
      "<class 'set'>\n"
     ]
    }
   ],
   "source": [
    "c5= {1,2,3,'jisha'}\n",
    "print(c5)\n",
    "print(type(c5))"
   ]
  },
  {
   "cell_type": "markdown",
   "id": "b4ba9de3-e3ce-4de9-8203-15584662151d",
   "metadata": {},
   "source": [
    "### Lists are mutable (can be changed), and used a lot in data analysis."
   ]
  },
  {
   "cell_type": "code",
   "execution_count": 262,
   "id": "d632862e-5981-4a1c-9f15-821dd34e6c64",
   "metadata": {},
   "outputs": [
    {
     "name": "stdout",
     "output_type": "stream",
     "text": [
      "['orange', 'banana', 'cherry']\n"
     ]
    }
   ],
   "source": [
    "fruits = [\"apple\",\"banana\",\"cherry\"]\n",
    "fruits[0]=\"orange\"   # changing \"banana\" to \"orange\"\n",
    "print(fruits)"
   ]
  },
  {
   "cell_type": "code",
   "execution_count": null,
   "id": "95fb17dd-7c1b-43cb-be89-8323b3954067",
   "metadata": {},
   "outputs": [],
   "source": [
    "You can also:\n",
    "Add items\n",
    "Remove items\n",
    "Sort items\n",
    "Reverse the list\n",
    "\n",
    "Why is this useful in data analysis?\n",
    "In data analysis, we often work with:\n",
    "Tables (like rows of data)\n",
    "Lists of numbers or strings\n",
    "Results from filtering or computations\n",
    "And we need to change them during processing."
   ]
  },
  {
   "cell_type": "code",
   "execution_count": 266,
   "id": "6a29bb9b-23d3-4857-a42d-2e86cd654960",
   "metadata": {},
   "outputs": [
    {
     "name": "stdout",
     "output_type": "stream",
     "text": [
      "[26, 30, 28, 34]\n"
     ]
    }
   ],
   "source": [
    "ages =[25,30,28]\n",
    "ages.append(34) # Add new age\n",
    "ages[0] = 26 # update first age\n",
    "print(ages)"
   ]
  },
  {
   "cell_type": "code",
   "execution_count": null,
   "id": "31e8e7d6-256b-4a28-9cd4-4c609da01d6a",
   "metadata": {},
   "outputs": [],
   "source": [
    "Opposite of Mutable? → Immutable\n",
    "tuple is an example of an immutable type (once created, you can’t change it)."
   ]
  },
  {
   "cell_type": "markdown",
   "id": "4d6903a5-bc58-421f-bbcd-b63abbf3c81f",
   "metadata": {},
   "source": [
    "### TASK"
   ]
  },
  {
   "cell_type": "code",
   "execution_count": 277,
   "id": "c26b68b9-02d4-4232-aab5-7a4888dd56f7",
   "metadata": {},
   "outputs": [],
   "source": [
    "colors = [\"red\",\"green\",\"blue\",\"yellow\"]"
   ]
  },
  {
   "cell_type": "raw",
   "id": "ad7e8533-ba47-48b8-a081-52f53e3d9e3f",
   "metadata": {},
   "source": [
    "Q 1.Change \"green\" to \"purple\"."
   ]
  },
  {
   "cell_type": "code",
   "execution_count": 279,
   "id": "43809af3-24e6-4481-a562-6abe13a715b1",
   "metadata": {},
   "outputs": [
    {
     "name": "stdout",
     "output_type": "stream",
     "text": [
      "['red', 'purple', 'blue', 'yellow']\n"
     ]
    }
   ],
   "source": [
    "colors[1]=\"purple\"\n",
    "print(colors)"
   ]
  },
  {
   "cell_type": "code",
   "execution_count": null,
   "id": "58d5fe49-753e-482e-999c-3abca92aa9eb",
   "metadata": {},
   "outputs": [],
   "source": [
    "NOTE :If you know the value but not the index\n",
    "You can find the index using .index(), then update the value."
   ]
  },
  {
   "cell_type": "code",
   "execution_count": 283,
   "id": "e8a2cdfd-698c-4d61-8de0-50c31cdcb571",
   "metadata": {},
   "outputs": [
    {
     "name": "stdout",
     "output_type": "stream",
     "text": [
      "[1, 2, 3, 4, 99, 6, 7]\n"
     ]
    }
   ],
   "source": [
    "numbers =[1,2,3,4,5,6,7]\n",
    "index_of_5 = numbers.index(5)\n",
    "numbers[index_of_5]= 99\n",
    "print(numbers)"
   ]
  },
  {
   "cell_type": "code",
   "execution_count": null,
   "id": "15af2a25-9617-4e00-af17-a2a7d3a7ce44",
   "metadata": {},
   "outputs": [],
   "source": [
    "numbers.index(5) = 99  #  Invalid\n",
    " Why?\n",
    "Because numbers.index(5) returns a value (an integer), but you can’t assign directly to a function call like that.\n",
    " What does this line mean:\n",
    "numbers.index(5) = 99\n",
    "You're saying:\n",
    " “Find where 5 is in the list and put 99 there.”\n",
    "\n",
    "Sounds logical, right? But Python doesn’t allow it directly. Why?\n",
    "\n",
    " Let's break it down:\n",
    "numbers.index(5)\n",
    " This part only gives you the index number where 5 is found.\n",
    "For example, if the list is:\n",
    "numbers = [2, 5, 9]\n",
    "Then:\n",
    "numbers.index(5)  # ➜ returns 1\n",
    "So, you're getting a value back — just the number 1.\n",
    "But then you're trying to assign something to it like this:\n",
    "\n",
    "1 = 99   #  This is invalid!\n",
    "And Python says:\n",
    "\n",
    "\"Hey! You can't assign a value to a number like 1. That doesn't make sense.\""
   ]
  },
  {
   "cell_type": "code",
   "execution_count": 286,
   "id": "b6903176-1c3b-46ea-b159-18f446a17b0c",
   "metadata": {},
   "outputs": [
    {
     "data": {
      "text/plain": [
       "4"
      ]
     },
     "execution_count": 286,
     "metadata": {},
     "output_type": "execute_result"
    }
   ],
   "source": [
    "number =[1,2,3,4,56,44]\n",
    "number.index(56)"
   ]
  },
  {
   "cell_type": "code",
   "execution_count": 288,
   "id": "5812b54f-3ee2-4a7c-8440-a7328f821f59",
   "metadata": {},
   "outputs": [],
   "source": [
    "number[4]=20"
   ]
  },
  {
   "cell_type": "code",
   "execution_count": 290,
   "id": "4bb01b18-38f3-4dab-9bc1-d6a6b51f73fe",
   "metadata": {},
   "outputs": [
    {
     "name": "stdout",
     "output_type": "stream",
     "text": [
      "[1, 2, 3, 4, 20, 44]\n"
     ]
    }
   ],
   "source": [
    "print(number)"
   ]
  },
  {
   "cell_type": "code",
   "execution_count": 292,
   "id": "bf126ec4-53d4-4ac1-a13a-eacd05a8a44e",
   "metadata": {},
   "outputs": [
    {
     "data": {
      "text/plain": [
       "1"
      ]
     },
     "execution_count": 292,
     "metadata": {},
     "output_type": "execute_result"
    }
   ],
   "source": [
    "number=[2,4,5,6,4]\n",
    "number.index(4)"
   ]
  },
  {
   "cell_type": "code",
   "execution_count": 298,
   "id": "94b55b6b-8d7b-47db-9d15-25e66a67b70b",
   "metadata": {},
   "outputs": [
    {
     "name": "stdout",
     "output_type": "stream",
     "text": [
      "[2, 2, 5, 6, 4]\n"
     ]
    }
   ],
   "source": [
    "number[1]=2 #it changes the first come out if the numbers are same \n",
    "print(number)"
   ]
  },
  {
   "cell_type": "code",
   "execution_count": 300,
   "id": "9457913e-8114-4548-b839-fce44c4b1b34",
   "metadata": {},
   "outputs": [],
   "source": [
    "colors = [\"red\", \"green\", \"blue\", \"yellow\"]\n"
   ]
  },
  {
   "cell_type": "raw",
   "id": "f1792a44-af14-485f-b11a-4b1d497c5984",
   "metadata": {},
   "source": [
    "Q.3 Add a new color \"pink\" to the end of the list."
   ]
  },
  {
   "cell_type": "code",
   "execution_count": 304,
   "id": "6ae807eb-f4a8-4745-9552-96dc6d2b0b0f",
   "metadata": {},
   "outputs": [],
   "source": [
    "colors.append(\"pink\")"
   ]
  },
  {
   "cell_type": "code",
   "execution_count": 306,
   "id": "408561a5-9a3c-4b9e-8ca9-2b453680b6ff",
   "metadata": {},
   "outputs": [
    {
     "name": "stdout",
     "output_type": "stream",
     "text": [
      "['red', 'green', 'blue', 'yellow', 'pink']\n"
     ]
    }
   ],
   "source": [
    "print(colors)"
   ]
  },
  {
   "cell_type": "raw",
   "id": "79b575de-d8e2-4154-8a68-bf1ec3f0b1db",
   "metadata": {},
   "source": [
    "Q.4 Insert the color \"orange\" at the 2nd position (index 1)."
   ]
  },
  {
   "cell_type": "code",
   "execution_count": null,
   "id": "95555fa2-5d74-425b-8a55-c7bbbadc5a72",
   "metadata": {},
   "outputs": [],
   "source": [
    "problem\n",
    "colors = [\"red\", \"green\", \"blue\", \"yellow\"]\n",
    "index_1=colors[1]\n",
    "index_1.append(\"oranage\")\n",
    "print(colors)\n",
    "Imagine:\n",
    "A list is like a shopping bag → you can put more items in it (append).\n",
    "A string is like a single apple → you can’t put another apple inside it.\n",
    "If you want another apple, you need to put it in the bag, not inside the apple.\n",
    "\n",
    ".index(value) → Finds the position of a value in the list.\n",
    ".insert(position, value) → Puts a new value at a specific position.\n",
    "They are two different tools — .index() searches for something inside the list, while .insert() places something in."
   ]
  },
  {
   "cell_type": "code",
   "execution_count": 336,
   "id": "40d2abce-bbd5-4f55-83bf-4c665686a220",
   "metadata": {},
   "outputs": [
    {
     "name": "stdout",
     "output_type": "stream",
     "text": [
      "['red', 'orange', 'green', 'blue', 'yellow']\n"
     ]
    }
   ],
   "source": [
    "colors = [\"red\", \"green\", \"blue\", \"yellow\"]\n",
    "colors.insert(1,\"orange\")\n",
    "print(colors)"
   ]
  },
  {
   "cell_type": "code",
   "execution_count": 348,
   "id": "8ec4e65e-5ea0-4ba0-9929-f6770dacfcbb",
   "metadata": {},
   "outputs": [
    {
     "name": "stdout",
     "output_type": "stream",
     "text": [
      "['red', 'green', 'yellow']\n"
     ]
    }
   ],
   "source": [
    "# Q.5 Remove \"blue\" from the list.\n",
    "colors = [\"red\", \"green\", \"blue\", \"yellow\"]\n",
    "colors.remove(\"blue\")\n",
    "print(colors)"
   ]
  },
  {
   "cell_type": "code",
   "execution_count": 69,
   "id": "374edf41-831f-4f09-a2e5-0c51891e2954",
   "metadata": {},
   "outputs": [
    {
     "name": "stdout",
     "output_type": "stream",
     "text": [
      "['yellow', 'blue', 'green', 'red']\n"
     ]
    }
   ],
   "source": [
    "# 6. Reverse the entire list.\n",
    "colors = [\"red\", \"green\", \"blue\", \"yellow\"]\n",
    "colors.reverse()\n",
    "print(colors)\n",
    "\n",
    "#  In Python:\n",
    "# colors.reverse → just points to the method (does nothing)\n",
    "# colors.reverse() → calls the method and actually reverses the list\n"
   ]
  },
  {
   "cell_type": "code",
   "execution_count": 360,
   "id": "c251c8c8-8061-4bc5-892b-cd841f997641",
   "metadata": {},
   "outputs": [
    {
     "name": "stdout",
     "output_type": "stream",
     "text": [
      "red\n"
     ]
    }
   ],
   "source": [
    "# Q 7. Print the final list.\n",
    "print(colors[-1])"
   ]
  },
  {
   "cell_type": "code",
   "execution_count": null,
   "id": "42127611-eaef-43c2-afbd-49412745d174",
   "metadata": {},
   "outputs": [],
   "source": [
    "\n",
    "| Value  | Index |\n",
    "| ------ | ----- |\n",
    "| yellow | 0     |\n",
    "| blue   | 1     |\n",
    "| green  | 2     |\n",
    "| red    | 3     |\n",
    "\n",
    "Negative indexing works like this:\n",
    "\n",
    "-1 means last item → index 3 here → \"red\"\n",
    "-2 means second last → index 2 → \"green\"\n",
    "-3 means third last → index 1 → \"blue\"\n",
    "and so on…\n",
    "\n",
    "['yellow', 'blue', 'green', 'red']\n",
    "   -4        -3       -2      -1\n"
   ]
  },
  {
   "cell_type": "code",
   "execution_count": 367,
   "id": "aea0996b-0929-4eb9-bb2f-5ee5c32cc09e",
   "metadata": {},
   "outputs": [
    {
     "name": "stdout",
     "output_type": "stream",
     "text": [
      "['red', 'green', 'blue', 'yellow']\n"
     ]
    }
   ],
   "source": [
    "new_colors = colors[::-1]\n",
    "print(new_colors)"
   ]
  },
  {
   "cell_type": "code",
   "execution_count": 381,
   "id": "6a1d0057-8dc9-4bd6-9a01-52e577747454",
   "metadata": {},
   "outputs": [
    {
     "name": "stdout",
     "output_type": "stream",
     "text": [
      "Help on built-in function append:\n",
      "\n",
      "append(object, /) method of builtins.list instance\n",
      "    Append object to the end of the list.\n",
      "\n"
     ]
    }
   ],
   "source": [
    "help(colors.append)"
   ]
  },
  {
   "cell_type": "code",
   "execution_count": null,
   "id": "6e3b1629-57c3-4763-b8f5-c034f29c5279",
   "metadata": {},
   "outputs": [],
   "source": [
    " TIPS\n",
    "\n",
    "| Action         | How                         | Example               |\n",
    "\n",
    "| Show methods   | Type `.` + **Tab**          | `colors.` → Tab       |\n",
    "| Autocomplete   | Start typing + **Tab**      | `colors.ap` → Tab     |\n",
    "| Method help    | Inside `()` + **Shift+Tab** | `colors.append(`      |\n",
    "| Full help      | `help()`                    | `help(colors.append)` |\n",
    "| Run cell       | **Shift+Enter**             | —                     |\n",
    "| New cell above | **A**                       | —                     |\n",
    "| New cell below | **B**                       | —                     |\n"
   ]
  },
  {
   "cell_type": "markdown",
   "id": "7b1e9aac-ab76-47ea-8140-e6c6296f6825",
   "metadata": {},
   "source": [
    "### | Action                            | What to Do                                         | Example                        | Result                                                   |\n",
    "### | --------------------------------- | -------------------------------------------------- | ------------------------------ | -------------------------------------------------------- |\n",
    "### | **See all available methods**     | Type the variable + `.` and press **Tab**          | `colors.` → Tab                | Shows list of methods like `append`, `remove`, `reverse` |\n",
    "### | **Autocomplete a method**         | Start typing, then press **Tab**                   | `colors.ap` → Tab              | Completes to `colors.append`                             |\n",
    "### | **See method explanation**        | Place cursor inside `()` and press **Shift + Tab** | `colors.append(` → Shift + Tab | Shows what the method does and parameters                |\n",
    "### | **Get full method documentation** | Use `help()`                                       | `help(colors.append)`          | Prints detailed docstring in output                      |\n",
    "### | **Run a cell**                    | Press **Shift + Enter**                            | *(any code)* → Shift + Enter   | Executes the code in the current cell                    |\n",
    "### | **Insert a new cell above**       | Press **A** (in command mode)                      | N/A                            | Adds an empty cell above                                 |\n",
    "### | **Insert a new cell below**       | Press **B** (in command mode)                      | N/A                            | Adds an empty cell below                                |\n"
   ]
  },
  {
   "cell_type": "markdown",
   "id": "a278fea9-8d82-45df-8518-bb631f36a8a0",
   "metadata": {},
   "source": [
    "### 5. Tuple"
   ]
  },
  {
   "cell_type": "markdown",
   "id": "f3127057-7bda-4296-b01e-e314a07c1f48",
   "metadata": {},
   "source": [
    "### What is a Tuple?\n",
    "### A tuple is like a list, but immutable (cannot be changed after creation).\n",
    "### Written with round brackets ().\n",
    "### Can store different data types."
   ]
  },
  {
   "cell_type": "code",
   "execution_count": 400,
   "id": "b33e1da5-4c47-4026-bd03-ed90d3bffa38",
   "metadata": {},
   "outputs": [
    {
     "name": "stdout",
     "output_type": "stream",
     "text": [
      "('red', 'green', 'blue')\n"
     ]
    }
   ],
   "source": [
    "colors =(\"red\",\"green\",\"blue\")\n",
    "print(colors)"
   ]
  },
  {
   "cell_type": "code",
   "execution_count": 402,
   "id": "5cada76a-3007-45ec-b403-47490858abd2",
   "metadata": {},
   "outputs": [
    {
     "name": "stdout",
     "output_type": "stream",
     "text": [
      "(1, 'apple', 3.5)\n"
     ]
    }
   ],
   "source": [
    "my_tuple = (1, \"apple\", 3.5)\n",
    "print(my_tuple)"
   ]
  },
  {
   "cell_type": "markdown",
   "id": "a49ba39e-7d02-4a96-bad0-216149e8ea9d",
   "metadata": {},
   "source": [
    "### Key Differences from Lists"
   ]
  },
  {
   "cell_type": "markdown",
   "id": "52804c82-c1c4-457a-a3b5-bdbea33a4a44",
   "metadata": {},
   "source": [
    "| Feature  | List  | Tuple                  |\n",
    "| -------- | ----- | ---------------------- |\n",
    "| Brackets | `[]`  | `()`                   |\n",
    "| Mutable? |   Yes |  No                   |\n",
    "| Faster?  |  No   |  Yes                  |\n",
    "| Methods  | Many  | Few (`count`, `index`) |\n"
   ]
  },
  {
   "cell_type": "markdown",
   "id": "e0cf6ac5-46eb-4752-a07b-1b0cb51ea6bf",
   "metadata": {},
   "source": [
    "### Creating Tuples"
   ]
  },
  {
   "cell_type": "code",
   "execution_count": 409,
   "id": "f77ca9c3-a4c8-4254-83a0-833e1bc6735a",
   "metadata": {},
   "outputs": [],
   "source": [
    "t1 =(1,2,3) # normal\n",
    "t2 = (\"a\",) # Single element (Comma is a must)\n",
    "t3 = tuple([4,5,5]) # from list"
   ]
  },
  {
   "cell_type": "markdown",
   "id": "b6e67d10-c186-479c-83f2-014234e42b38",
   "metadata": {},
   "source": [
    "### Accessing Tuple Elements"
   ]
  },
  {
   "cell_type": "code",
   "execution_count": 412,
   "id": "998564ab-88b8-4fc9-82c1-186450123664",
   "metadata": {},
   "outputs": [
    {
     "name": "stdout",
     "output_type": "stream",
     "text": [
      "1\n",
      "1\n"
     ]
    }
   ],
   "source": [
    "t = (1,5,6,4)\n",
    "print(t[0])\n",
    "print(t[-4])"
   ]
  },
  {
   "cell_type": "markdown",
   "id": "790ab189-49d8-42ab-abcc-40ea108ee008",
   "metadata": {},
   "source": [
    "### Tuple Methods"
   ]
  },
  {
   "cell_type": "code",
   "execution_count": 419,
   "id": "662fa9d7-9281-4f7e-afba-418ebe2dcbf8",
   "metadata": {},
   "outputs": [
    {
     "name": "stdout",
     "output_type": "stream",
     "text": [
      "2\n",
      "2\n"
     ]
    }
   ],
   "source": [
    "t = (1,23,22,4,4)\n",
    "print(t.index(22))\n",
    "print(t.count(4))\n",
    "print(t.a"
   ]
  },
  {
   "cell_type": "code",
   "execution_count": 423,
   "id": "0fa998c0-a56e-4c74-8292-167ab06c7500",
   "metadata": {},
   "outputs": [
    {
     "name": "stdout",
     "output_type": "stream",
     "text": [
      "('apple', 'banana', 'cherry')\n"
     ]
    }
   ],
   "source": [
    "# Q 1. Create a tuple with fruits: \"apple\", \"banana\", \"cherry\".\n",
    "fruits = (\"apple\", \"banana\", \"cherry\")\n",
    "print(fruits)"
   ]
  },
  {
   "cell_type": "code",
   "execution_count": 429,
   "id": "8add31c2-b2fb-4a7d-8991-c95aab27a70f",
   "metadata": {},
   "outputs": [
    {
     "name": "stdout",
     "output_type": "stream",
     "text": [
      "banana\n"
     ]
    }
   ],
   "source": [
    "# Q 2. Print the 2nd element\n",
    "fruits = (\"apple\", \"banana\", \"cherry\")\n",
    "print(fruits[1])\n",
    "      "
   ]
  },
  {
   "cell_type": "code",
   "execution_count": 431,
   "id": "d60d9e38-7b21-4f14-be56-29fe398e39bd",
   "metadata": {},
   "outputs": [
    {
     "name": "stdout",
     "output_type": "stream",
     "text": [
      "1\n"
     ]
    }
   ],
   "source": [
    "# Q3.Find the index of \"banana\".\n",
    "print(fruits.index(\"banana\"))"
   ]
  },
  {
   "cell_type": "code",
   "execution_count": 435,
   "id": "22d2ef37-4cc3-4917-8dcb-e2264bf084ff",
   "metadata": {},
   "outputs": [
    {
     "name": "stdout",
     "output_type": "stream",
     "text": [
      "1\n"
     ]
    }
   ],
   "source": [
    "# Q 4. Count how many times \"apple\" appears.\n",
    "print(fruits.count(\"apple\"))"
   ]
  },
  {
   "cell_type": "code",
   "execution_count": 437,
   "id": "389dca8f-d68e-42a2-94ec-e008aa977616",
   "metadata": {},
   "outputs": [
    {
     "name": "stdout",
     "output_type": "stream",
     "text": [
      "apple\n",
      "banana\n",
      "cherry\n"
     ]
    }
   ],
   "source": [
    "# 5. Loop and print all elements\n",
    "for fruit in fruits:\n",
    "    print(fruit)"
   ]
  },
  {
   "cell_type": "markdown",
   "id": "ed398fd9-7e89-4e31-962f-8d005022a5d1",
   "metadata": {},
   "source": [
    "### Try changing \"apple\" to \"yellow\" — what happens?\n",
    "### colors[1] = \"yellow\"  #  Error: Tuples are immutable\n",
    "###  This shows tuples cannot be modified."
   ]
  },
  {
   "cell_type": "code",
   "execution_count": 442,
   "id": "2ff2d32d-380d-4696-b43b-91f5c9509cb9",
   "metadata": {},
   "outputs": [
    {
     "name": "stdout",
     "output_type": "stream",
     "text": [
      "True\n"
     ]
    }
   ],
   "source": [
    "# Q6. Check if \"apple\" exists in the tuple.\n",
    "print(\"apple\" in fruits)"
   ]
  },
  {
   "cell_type": "code",
   "execution_count": 444,
   "id": "c4f9bc6c-4225-4778-acf6-c2367b55db52",
   "metadata": {},
   "outputs": [
    {
     "name": "stdout",
     "output_type": "stream",
     "text": [
      "3\n"
     ]
    }
   ],
   "source": [
    "# Q5. Find the length of the tuple.\n",
    "print(len(fruits))"
   ]
  },
  {
   "cell_type": "markdown",
   "id": "f0d468b3-3e29-458a-a979-6934c173917e",
   "metadata": {},
   "source": [
    "### 6. Set (Combination of elements and objects)"
   ]
  },
  {
   "cell_type": "code",
   "execution_count": 447,
   "id": "da1f5d37-e343-489d-a840-703664cc8c2c",
   "metadata": {},
   "outputs": [
    {
     "name": "stdout",
     "output_type": "stream",
     "text": [
      "{1, 2, 3}\n"
     ]
    }
   ],
   "source": [
    "unique_nums = {1, 2, 3, 3}\n",
    "print(unique_nums)  "
   ]
  },
  {
   "cell_type": "markdown",
   "id": "9bd4db81-3d64-40e7-9de7-5fbffb49a710",
   "metadata": {},
   "source": [
    "### 7. Dictionary (dict) - (KEY, VALUE)"
   ]
  },
  {
   "cell_type": "code",
   "execution_count": 51,
   "id": "cb67fead-3cd8-41b6-ac4d-ae4891f822e8",
   "metadata": {},
   "outputs": [
    {
     "name": "stdout",
     "output_type": "stream",
     "text": [
      "Ana\n"
     ]
    }
   ],
   "source": [
    "student = {\"name\": \"Ana\", \"age\": 22}\n",
    "print(student[\"name\"])  # Output: Ana"
   ]
  },
  {
   "cell_type": "code",
   "execution_count": 5,
   "id": "125f863d-9707-4bbb-919e-50249f6672b0",
   "metadata": {},
   "outputs": [
    {
     "name": "stdout",
     "output_type": "stream",
     "text": [
      "<class 'float'>\n",
      "<class 'str'>\n",
      "<class 'list'>\n"
     ]
    }
   ],
   "source": [
    "print(type(3.14))         # float\n",
    "print(type(\"hello\"))      # str\n",
    "print(type([1, 2, 3]))     # list"
   ]
  },
  {
   "cell_type": "code",
   "execution_count": 7,
   "id": "eb300b3e-ea41-46cf-ae0e-5f0aaade4168",
   "metadata": {},
   "outputs": [
    {
     "name": "stdout",
     "output_type": "stream",
     "text": [
      "<class 'int'>\n",
      "<class 'float'>\n",
      "<class 'str'>\n",
      "<class 'list'>\n",
      "<class 'dict'>\n",
      "<class 'tuple'>\n",
      "<class 'set'>\n",
      "<class 'NoneType'>\n"
     ]
    }
   ],
   "source": [
    "a = 7\n",
    "b = 3.14\n",
    "c = \"Python\"\n",
    "d = [1, 2, 3]\n",
    "e = {\"name\": \"Jisha\", \"age\": 25}\n",
    "f = (10, 20)\n",
    "g = {1, 2, 2, 3}\n",
    "h = None\n",
    "\n",
    "print(type(a))\n",
    "print(type(b))\n",
    "print(type(c))\n",
    "print(type(d))\n",
    "print(type(e))\n",
    "print(type(f))\n",
    "print(type(g))\n",
    "print(type(h))\n"
   ]
  },
  {
   "cell_type": "markdown",
   "id": "42d3f14c-550e-4581-978b-06776ff3a8b2",
   "metadata": {},
   "source": [
    "# TASK"
   ]
  },
  {
   "cell_type": "markdown",
   "id": "92b1e66b-1ed9-486f-9fce-e2d1d98d00e9",
   "metadata": {},
   "source": [
    "### Q 1. Write a python programming code that prints the following text exactly as it appears.\n",
    "### Python is fun.\n",
    "### \"Quotes\" and 'single quotes' can be tricky."
   ]
  },
  {
   "cell_type": "code",
   "execution_count": 68,
   "id": "a33be016-1d54-4274-bd16-e001a11a8ed9",
   "metadata": {},
   "outputs": [
    {
     "name": "stdout",
     "output_type": "stream",
     "text": [
      "Python is fun.\n"
     ]
    }
   ],
   "source": [
    "print('Python is fun.')"
   ]
  },
  {
   "cell_type": "code",
   "execution_count": 117,
   "id": "dc94f5ba-1875-4784-991d-aa202ed804a9",
   "metadata": {},
   "outputs": [
    {
     "name": "stdout",
     "output_type": "stream",
     "text": [
      " \"Quotes\" and 'single quotes' can be tricky.\n",
      " \"Quotes\" and 'single quotes' can be tricky.\n",
      "\"Quotes\" and 'single quotes' can be tricky.\n"
     ]
    }
   ],
   "source": [
    "# Option 1\n",
    "print(''' \"Quotes\" and 'single quotes' can be tricky.''')\n",
    "# Option 2 \n",
    "print(\"\"\" \"Quotes\" and 'single quotes' can be tricky.\"\"\")\n",
    "# Option 3 \n",
    "print(\"\\\"Quotes\\\" and 'single quotes' can be tricky.\")"
   ]
  },
  {
   "cell_type": "code",
   "execution_count": 121,
   "id": "a3019420-4286-4a0b-8746-518c68a2c215",
   "metadata": {},
   "outputs": [
    {
     "name": "stdout",
     "output_type": "stream",
     "text": [
      "Python is fun.\"Quotes\" and 'single quotes' can be tricky.\n"
     ]
    }
   ],
   "source": [
    "# If you want to combine \n",
    "print(\"Python is fun.\\\"Quotes\\\" and 'single quotes' can be tricky.\")"
   ]
  },
  {
   "cell_type": "code",
   "execution_count": 125,
   "id": "d32c3985-fcff-414f-bdd8-1089d6ab6dd7",
   "metadata": {},
   "outputs": [
    {
     "name": "stdout",
     "output_type": "stream",
     "text": [
      "Python is fun.\n",
      "\"Quotes\" and 'single quotes' can be tricky.\n"
     ]
    }
   ],
   "source": [
    "# next line (Break line)\n",
    "print(\"Python is fun.\\n\\\"Quotes\\\" and 'single quotes' can be tricky.\")"
   ]
  },
  {
   "cell_type": "markdown",
   "id": "22c3a44a-b159-4e8e-9757-be07909371b2",
   "metadata": {},
   "source": [
    "### Q2. For a business create 3 variables to store-name, age and city.Then print a sentence that uses these variables."
   ]
  },
  {
   "cell_type": "code",
   "execution_count": 129,
   "id": "862ff130-bbc2-4cf8-9bc7-5162bc9719ae",
   "metadata": {},
   "outputs": [
    {
     "name": "stdout",
     "output_type": "stream",
     "text": [
      "My name is Max and i'm 22 lives in Al ain\n"
     ]
    }
   ],
   "source": [
    "name = \"Max\"\n",
    "age = 22\n",
    "city = \"Al ain\"\n",
    "print( \"My name is\" ,name, \"and i'm\" ,age, \"lives in\",city )"
   ]
  },
  {
   "cell_type": "code",
   "execution_count": 131,
   "id": "13fad9d8-23ed-4efa-924a-f551c088cf86",
   "metadata": {},
   "outputs": [],
   "source": [
    "# if  Dict used \n",
    "person = {'name': 'Max' , \"age\":22, \"city\": \"Al AIN\"}"
   ]
  },
  {
   "cell_type": "code",
   "execution_count": 133,
   "id": "50b79de8-d6fd-4090-b415-7dcea5a0bb76",
   "metadata": {},
   "outputs": [
    {
     "name": "stdout",
     "output_type": "stream",
     "text": [
      "my name is  Max and i'm 22 lives in  Al AIN\n"
     ]
    }
   ],
   "source": [
    "# Option 1: Using keys directly\n",
    "print(\"my name is \",person[\"name\"], \"and i'm\",person[\"age\"],\"lives in \",person[\"city\"])"
   ]
  },
  {
   "cell_type": "code",
   "execution_count": 137,
   "id": "e8c76ae3-4da1-478f-b8ae-6aa68bddb462",
   "metadata": {},
   "outputs": [
    {
     "name": "stdout",
     "output_type": "stream",
     "text": [
      "my name is Max and i'm 22 lives in Al ain\n"
     ]
    }
   ],
   "source": [
    "# Option 2: Using f-strings (formatted string)\n",
    "# Here {} means → insert variable value here.Here no commas needed just insert variable in {} .\n",
    "print(f\"my name is {name} and i'm {age} lives in {city}\")"
   ]
  },
  {
   "cell_type": "code",
   "execution_count": 141,
   "id": "b25286d2-01ec-4546-969c-46eca2c2abd7",
   "metadata": {},
   "outputs": [
    {
     "name": "stdout",
     "output_type": "stream",
     "text": [
      "my name is Max and i'm 23 lives in Al ain\n"
     ]
    }
   ],
   "source": [
    "# Adding expression\n",
    "print(f\"my name is {name} and i'm {age + 1} lives in {city}\")"
   ]
  },
  {
   "cell_type": "markdown",
   "id": "406fe610-2bbd-42d0-986d-e9a004a7a3a7",
   "metadata": {},
   "source": [
    " 2. Escape Sequences (like \\n, \\t)\n",
    "\n",
    "Escape sequences are special codes inside strings that do things other than showing normal text."
   ]
  },
  {
   "cell_type": "markdown",
   "id": "e4c9af14-8db9-4f1f-821b-5b0cb7d3cc22",
   "metadata": {},
   "source": [
    "| Escape Sequence | Meaning                                         |\n",
    "| --------------- | ----------------------------------------------- |\n",
    "| `\\n`            | New line                                        |\n",
    "| `\\t`            | Tab space                                       |\n",
    "| `\\\\`            | Backslash itself                                |\n",
    "| `\\'`            | Single quote                                    |\n",
    "| `\\\"`            | Double quote                                    |\n",
    "| `\\b`            | Backspace                                       |\n",
    "| `\\r`            | Carriage return (moves cursor to start of line) |\n"
   ]
  },
  {
   "cell_type": "code",
   "execution_count": 173,
   "id": "7d5c2f30-3eff-4cc2-997d-56cb1b53d175",
   "metadata": {},
   "outputs": [
    {
     "name": "stdout",
     "output_type": "stream",
     "text": [
      "Hello\n",
      "World\n"
     ]
    }
   ],
   "source": [
    "print(\"Hello\\nWorld\") #\\n → New line"
   ]
  },
  {
   "cell_type": "code",
   "execution_count": 171,
   "id": "d4e381df-a4d7-4257-8a67-897f52df55d7",
   "metadata": {},
   "outputs": [
    {
     "name": "stdout",
     "output_type": "stream",
     "text": [
      "Name:\tJisha\n"
     ]
    }
   ],
   "source": [
    "print(\"Name:\\tJisha\") #\\t → Tab space"
   ]
  },
  {
   "cell_type": "code",
   "execution_count": 169,
   "id": "981d9338-0e16-4631-be61-0ad47536bd3c",
   "metadata": {},
   "outputs": [
    {
     "name": "stdout",
     "output_type": "stream",
     "text": [
      "C:\\Users\\Documents\n"
     ]
    }
   ],
   "source": [
    "print(\"C:\\\\Users\\\\Documents\") #\\\\ → Backslash itself"
   ]
  },
  {
   "cell_type": "code",
   "execution_count": 167,
   "id": "4594679f-5cd3-4530-a995-ea9e26fdff7e",
   "metadata": {},
   "outputs": [
    {
     "name": "stdout",
     "output_type": "stream",
     "text": [
      "It's a sunny day\n"
     ]
    }
   ],
   "source": [
    "print('It\\'s a sunny day') #\\' → Single quote"
   ]
  },
  {
   "cell_type": "code",
   "execution_count": 163,
   "id": "8d6d890f-76f6-4c14-bf74-af0ed2c8206f",
   "metadata": {},
   "outputs": [
    {
     "name": "stdout",
     "output_type": "stream",
     "text": [
      "He said, \"Hello!\"\n"
     ]
    }
   ],
   "source": [
    "print(\"He said, \\\"Hello!\\\"\") #\\\" → Double quote"
   ]
  },
  {
   "cell_type": "code",
   "execution_count": 165,
   "id": "542c7b71-4dc6-4e60-b027-42048a1a1755",
   "metadata": {},
   "outputs": [
    {
     "name": "stdout",
     "output_type": "stream",
     "text": [
      "Hello\n"
     ]
    }
   ],
   "source": [
    "print(\"Helloo\\b\") #\\b → Backspace (removes previous character)"
   ]
  },
  {
   "cell_type": "markdown",
   "id": "a5bc490e-7ef0-4137-9bf2-8eb4465b43fd",
   "metadata": {},
   "source": [
    "### REVISION TASK"
   ]
  },
  {
   "cell_type": "markdown",
   "id": "85d4f98c-866d-4c7f-a1d6-314779f9fea9",
   "metadata": {},
   "source": [
    "### Lesson 1 – Basics\n",
    "### Q 1. Write code to print: Hello World."
   ]
  },
  {
   "cell_type": "code",
   "execution_count": 185,
   "id": "2ae94ea0-22dd-4f27-907b-097b4e7fd08b",
   "metadata": {},
   "outputs": [
    {
     "name": "stdout",
     "output_type": "stream",
     "text": [
      "Hello World\n"
     ]
    }
   ],
   "source": [
    "A = \"Hello World\"\n",
    "print(A)"
   ]
  },
  {
   "cell_type": "markdown",
   "id": "4b8fe287-a374-42b0-bfac-7f6279a29f38",
   "metadata": {},
   "source": [
    "### Q 2. Store your name in a variable and print it."
   ]
  },
  {
   "cell_type": "code",
   "execution_count": 192,
   "id": "7fd6d6e7-7070-49c0-b821-eb12292f4e6e",
   "metadata": {},
   "outputs": [
    {
     "name": "stdout",
     "output_type": "stream",
     "text": [
      "Jisha Varghese\n",
      "<class 'str'>\n"
     ]
    }
   ],
   "source": [
    "b = \"Jisha Varghese\"\n",
    "print(b)\n",
    "print(type(b))"
   ]
  },
  {
   "cell_type": "markdown",
   "id": "c7015617-6167-4a8b-904f-a3deee6e23d3",
   "metadata": {},
   "source": [
    "### Lesson 2 – Operators\n",
    "\n",
    "### If a = 10, b = 3:\n",
    "\n",
    "### Find the remainder.\n",
    "\n",
    "### Check if a > b.\n",
    "\n",
    "### Use floor division."
   ]
  },
  {
   "cell_type": "code",
   "execution_count": 203,
   "id": "6730b871-7a67-4166-b60a-e34e4cbeb2d6",
   "metadata": {},
   "outputs": [
    {
     "name": "stdout",
     "output_type": "stream",
     "text": [
      "1\n",
      "True\n",
      "3\n"
     ]
    }
   ],
   "source": [
    "a = 10\n",
    "b = 3\n",
    "print(a % b) # remainder → 1\n",
    "print(a>b)\n",
    "print(a//b) "
   ]
  },
  {
   "cell_type": "markdown",
   "id": "a5ecf4e4-9b75-4da4-96a0-e0ef94671331",
   "metadata": {},
   "source": [
    "### Lesson 3 – Input & Output\n",
    "### Ask the user for their name and print:\n",
    "### \"Hello <name>, nice to meet you!\" using an f-string."
   ]
  },
  {
   "cell_type": "code",
   "execution_count": 218,
   "id": "1130b71b-01fc-4446-b810-1fd054613c9a",
   "metadata": {},
   "outputs": [
    {
     "name": "stdin",
     "output_type": "stream",
     "text": [
      " Enter your name: Jisha Varghese\n"
     ]
    },
    {
     "name": "stdout",
     "output_type": "stream",
     "text": [
      "Hello Jisha Varghese nice to meet you!\n"
     ]
    }
   ],
   "source": [
    "name = input(\" Enter your name:\")\n",
    "print(f\"Hello {name} nice to meet you!\")"
   ]
  },
  {
   "cell_type": "markdown",
   "id": "9816e2b2-ea2e-41b1-924f-f47213e5163b",
   "metadata": {},
   "source": [
    "### Lesson 4 – Lists\n",
    "\n",
    "### Start with:\n",
    "### colors = [\"red\", \"green\", \"blue\"]\n",
    "### Add \"yellow\".\n",
    "### Replace \"green\" with \"purple\".\n",
    "### Print the last element using negative index."
   ]
  },
  {
   "cell_type": "code",
   "execution_count": 231,
   "id": "f321c274-d83f-4823-b340-4e4e691b7a42",
   "metadata": {},
   "outputs": [],
   "source": [
    "colors = [\"red\",\"green\",\"blue\"]\n",
    "colors.append(\"yellow\") # add"
   ]
  },
  {
   "cell_type": "code",
   "execution_count": 233,
   "id": "e05c27cc-6183-49f0-86d7-643b75a9abaa",
   "metadata": {},
   "outputs": [
    {
     "name": "stdout",
     "output_type": "stream",
     "text": [
      "['red', 'green', 'blue', 'yellow']\n"
     ]
    }
   ],
   "source": [
    "print(colors)"
   ]
  },
  {
   "cell_type": "code",
   "execution_count": 237,
   "id": "88885494-1764-4b5c-985d-f409d5847728",
   "metadata": {},
   "outputs": [],
   "source": [
    "colors[1]=\"purple\" # Replace"
   ]
  },
  {
   "cell_type": "code",
   "execution_count": 239,
   "id": "d6eaf989-8090-4d2f-a488-68c977ddcb8f",
   "metadata": {},
   "outputs": [
    {
     "name": "stdout",
     "output_type": "stream",
     "text": [
      "['red', 'purple', 'blue', 'yellow']\n"
     ]
    }
   ],
   "source": [
    "print(colors)"
   ]
  },
  {
   "cell_type": "code",
   "execution_count": 243,
   "id": "286dba5f-9592-41b4-b306-e050cf75450c",
   "metadata": {},
   "outputs": [
    {
     "name": "stdout",
     "output_type": "stream",
     "text": [
      "yellow\n",
      "['red', 'purple', 'blue', 'yellow']\n"
     ]
    }
   ],
   "source": [
    "print(colors[-1])\n",
    "print(colors)"
   ]
  },
  {
   "cell_type": "markdown",
   "id": "fd66ba77-a394-4d35-a167-5a3df021dff6",
   "metadata": {},
   "source": [
    "### Lesson 5 – Tuples\n",
    "\n",
    "### Create a tuple of fruits: \"apple\", \"banana\", \"cherry\".\n",
    "\n",
    "### Print the 2nd element.\n",
    "\n",
    "### Count how many times \"apple\" appears."
   ]
  },
  {
   "cell_type": "code",
   "execution_count": 18,
   "id": "07dbcbbb-2c53-4cd8-a6e5-95f6a69382a0",
   "metadata": {},
   "outputs": [
    {
     "name": "stdout",
     "output_type": "stream",
     "text": [
      "banana\n"
     ]
    }
   ],
   "source": [
    "fruits = (\"apple\",\"banana\",\"cherry\")\n",
    "print(fruits[1])\n",
    "          "
   ]
  },
  {
   "cell_type": "code",
   "execution_count": 16,
   "id": "1f6049d9-3dcd-4f4d-80dc-420612d691c0",
   "metadata": {},
   "outputs": [
    {
     "name": "stdout",
     "output_type": "stream",
     "text": [
      "1\n"
     ]
    }
   ],
   "source": [
    "print(fruits.count(\"apple\"))"
   ]
  },
  {
   "cell_type": "markdown",
   "id": "d7328add-27c8-4c23-9b29-a034cc2c7153",
   "metadata": {},
   "source": [
    "### Lesson 6 – Sets & Dictionaries\n",
    "\n",
    "### Make a set with {1, 2, 2, 3} and print it.\n",
    "\n",
    "### Create a dictionary:\n",
    "\n",
    "### student = {\"name\": \"Ali\", \"age\": 20}\n",
    "\n",
    "### Print only the \"age\"."
   ]
  },
  {
   "cell_type": "code",
   "execution_count": 21,
   "id": "3346d960-7f68-4e7f-ad96-16b709dc46bb",
   "metadata": {},
   "outputs": [
    {
     "name": "stdout",
     "output_type": "stream",
     "text": [
      "{1, 2, 3}\n"
     ]
    }
   ],
   "source": [
    "set = {1,2,3}\n",
    "print(set)"
   ]
  },
  {
   "cell_type": "code",
   "execution_count": 23,
   "id": "87b068b2-7b9a-4688-a3d0-89502e5a8157",
   "metadata": {},
   "outputs": [
    {
     "name": "stdout",
     "output_type": "stream",
     "text": [
      "20\n"
     ]
    }
   ],
   "source": [
    "student = {\"name\":\"Ali\",\"age\":20}\n",
    "print(student[\"age\"])"
   ]
  },
  {
   "cell_type": "code",
   "execution_count": 41,
   "id": "1a5ae5b9-7efe-4d18-ba1a-7a82520a040b",
   "metadata": {},
   "outputs": [
    {
     "name": "stdout",
     "output_type": "stream",
     "text": [
      "My name is Ali and i'm 20\n"
     ]
    }
   ],
   "source": [
    "print(f\"My name is {student[\"name\"]} and i'm {student[\"age\"]}\")"
   ]
  },
  {
   "cell_type": "markdown",
   "id": "61bd5df6-90d7-45c1-9409-3feb45d59084",
   "metadata": {},
   "source": [
    "### NOTES"
   ]
  },
  {
   "cell_type": "code",
   "execution_count": 58,
   "id": "b2e797e0-55d7-40e6-aa59-36e94a6e6d0d",
   "metadata": {},
   "outputs": [
    {
     "name": "stdout",
     "output_type": "stream",
     "text": [
      "red\n",
      "Ali\n"
     ]
    }
   ],
   "source": [
    "# [] = access (indexing, slicing)\n",
    "\n",
    "# () = functions / tuples\n",
    "\n",
    "# {} = sets / dictionaries\n",
    "\n",
    "# Square Brackets []\n",
    "\n",
    "# Used for indexing / accessing elements in lists, tuples, dicts.\n",
    "\n",
    "colors = [\"red\", \"blue\"]\n",
    "print(colors[0])  \n",
    "student = {\"name\": \"Ali\"}\n",
    "print(student[\"name\"])  \n"
   ]
  },
  {
   "cell_type": "code",
   "execution_count": 54,
   "id": "65fd6601-cab0-462c-abf7-bb85b41fd7bb",
   "metadata": {},
   "outputs": [
    {
     "name": "stdout",
     "output_type": "stream",
     "text": [
      "['red', 'blue', 'green', 'green', 'green']\n",
      "('apple', 'banana')\n"
     ]
    }
   ],
   "source": [
    "# Parentheses ()\n",
    "\n",
    "# Used for functions/methods (append(), count(), index()) or creating tuples.\n",
    "\n",
    "colors.append(\"green\")  # add new item to list\n",
    "print(colors)\n",
    "fruits = (\"apple\", \"banana\") # tuple\n",
    "print(fruits)"
   ]
  },
  {
   "cell_type": "code",
   "execution_count": 56,
   "id": "bf9856fe-4765-4828-8cd4-070845c17fe2",
   "metadata": {},
   "outputs": [
    {
     "name": "stdout",
     "output_type": "stream",
     "text": [
      "{1, 2, 3}\n",
      "{'name': 'Ali', 'age': 20}\n"
     ]
    }
   ],
   "source": [
    "# Curly Braces {}\n",
    "\n",
    "# Used for sets and dictionaries.\n",
    "\n",
    "s = {1, 2, 3}  # set\n",
    "student = {\"name\": \"Ali\", \"age\": 20}  # dict\n",
    "print(s)\n",
    "print(student)"
   ]
  },
  {
   "cell_type": "markdown",
   "id": "fb9ec669-a834-4911-bc6e-cacb9485846c",
   "metadata": {},
   "source": [
    "## Mini Real-Life Project: Student Database"
   ]
  },
  {
   "cell_type": "markdown",
   "id": "45f7f1e2-3584-4030-9dbc-5c0fbef5e546",
   "metadata": {},
   "source": [
    "### Question / Task\n",
    "\n",
    "### You are asked to create a small Student Database in Python using lists, tuples, sets, and dictionaries together.\n",
    "\n",
    "###  Your database should allow you to:\n",
    "\n",
    "### 1. Store details of multiple students.\n",
    "\n",
    "### Each student should have:\n",
    "\n",
    "### Name (string)\n",
    "\n",
    "### Age (integer)\n",
    "\n",
    "### Subjects (tuple of subjects, since subjects are usually fixed for that student).\n",
    "\n",
    "### 2. Add a new student to the list.\n",
    "\n",
    "### 3. Print the name and age of each student.\n",
    "\n",
    "### 4. Create a set of all unique subjects across all students (no duplicates).\n",
    "\n",
    "### 5. Find and print the age of a specific student (e.g., \"Sara\")."
   ]
  },
  {
   "cell_type": "code",
   "execution_count": 1,
   "id": "dc72cb3f-0f00-45ed-9cd4-c75f339b6af8",
   "metadata": {},
   "outputs": [],
   "source": [
    "# Store students as a list of dictionaries\n",
    "students = [\n",
    "    {\"name\":\"Ali\",\"Age\":22,\"Subject\":(\"English\",\"Chemistry\")},\n",
    "    {\"name\":\"Jisha\",\"Age\": 23,\"Subject\":(\"Science\",\"Maths\")}\n",
    "]\n"
   ]
  },
  {
   "cell_type": "code",
   "execution_count": 3,
   "id": "11239ad5-9e7f-461f-ba36-c3d9a185445b",
   "metadata": {},
   "outputs": [
    {
     "name": "stdout",
     "output_type": "stream",
     "text": [
      "[{'name': 'Ali', 'Age': 22, 'Subject': ('English', 'Chemistry')}, {'name': 'Jisha', 'Age': 23, 'Subject': ('Science', 'Maths')}]\n"
     ]
    }
   ],
   "source": [
    "print(students)"
   ]
  },
  {
   "cell_type": "code",
   "execution_count": 33,
   "id": "7d4fcd84-9800-49f9-aca7-33f04c748d9a",
   "metadata": {},
   "outputs": [
    {
     "name": "stdout",
     "output_type": "stream",
     "text": [
      "[{'name': 'Ali', 'Age': 22, 'Subject': ('English', 'Chemistry')}, {'name': 'Jisha', 'Age': 23, 'Subject': ('Science', 'Maths')}, {'name': 'Jisha', 'Age': 20, 'Subject': ('English', 'Science')}, {'name': 'Jisha', 'Age': 20, 'Subject': ('English', 'Science')}, {'name': 'Sara', 'Age': 20, 'Subject': ('English', 'Science')}]\n"
     ]
    }
   ],
   "source": [
    "# Step 2: Add a new student (append to list)\n",
    "students.append({\"name\":\"Sara\",\"Age\":20,\"Subject\":(\"English\",\"Science\")})\n",
    "print(students)"
   ]
  },
  {
   "cell_type": "code",
   "execution_count": 17,
   "id": "eb890f55-1e36-4570-a6e9-01464e043133",
   "metadata": {},
   "outputs": [
    {
     "name": "stdout",
     "output_type": "stream",
     "text": [
      "Name: Ali | Age: 22\n",
      "Name: Jisha | Age: 23\n",
      "Name: Jisha | Age: 20\n",
      "Name: Jisha | Age: 20\n"
     ]
    }
   ],
   "source": [
    "# Step 3: Print all student names (looping)\n",
    "for student in students:\n",
    "    print(f\"Name: {student['name']} | Age: {student['Age']}\")"
   ]
  },
  {
   "cell_type": "code",
   "execution_count": 25,
   "id": "44f8d88e-113e-48bc-bf1c-f3449359b98e",
   "metadata": {},
   "outputs": [
    {
     "name": "stdout",
     "output_type": "stream",
     "text": [
      "Unique subjects: {'Science', 'Maths', 'Chemistry', 'English'}\n"
     ]
    }
   ],
   "source": [
    "# Step 4: Make a set of all unique subjects\n",
    "\n",
    "# NOTE :\n",
    "# A set in Python:\n",
    "# Stores only unique values → duplicates are automatically removed.\n",
    "# The order is not guaranteed (it may shuffle).\n",
    "\n",
    "all_subjects = set()\n",
    "for student in students:\n",
    "    all_subjects.update(student[\"Subject\"])\n",
    "\n",
    "print(\"Unique subjects:\", all_subjects)"
   ]
  },
  {
   "cell_type": "code",
   "execution_count": 35,
   "id": "68bd2e75-d4c2-41c6-83a4-1c20f79cee94",
   "metadata": {},
   "outputs": [
    {
     "name": "stdout",
     "output_type": "stream",
     "text": [
      "Sara's age is: 20\n"
     ]
    }
   ],
   "source": [
    "# Step 5: Find the age of \"Sara\"\n",
    "for student in students:\n",
    "    if student[\"name\"] == \"Sara\":\n",
    "        print(\"Sara's age is:\", student[\"Age\"])"
   ]
  },
  {
   "cell_type": "code",
   "execution_count": null,
   "id": "9d2a4f69-6393-4740-ae76-d4b382048d9f",
   "metadata": {},
   "outputs": [],
   "source": []
  }
 ],
 "metadata": {
  "kernelspec": {
   "display_name": "Python 3 (ipykernel)",
   "language": "python",
   "name": "python3"
  },
  "language_info": {
   "codemirror_mode": {
    "name": "ipython",
    "version": 3
   },
   "file_extension": ".py",
   "mimetype": "text/x-python",
   "name": "python",
   "nbconvert_exporter": "python",
   "pygments_lexer": "ipython3",
   "version": "3.12.4"
  }
 },
 "nbformat": 4,
 "nbformat_minor": 5
}
